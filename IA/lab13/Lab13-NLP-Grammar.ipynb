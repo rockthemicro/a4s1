{
 "cells": [
  {
   "cell_type": "markdown",
   "metadata": {},
   "source": [
    "# Prelucrarea limbajului natural: Analiza sintactică\n",
    "\n",
    " - Andrei Olaru\n",
    "\n",
    "Scopul acestui laborator îl reprezintă familiarizarea cu analiza sintactică a limbajului natural, prin identificarea structurii propoziției și rolului fiecărui cuvânt.\n"
   ]
  },
  {
   "cell_type": "markdown",
   "metadata": {},
   "source": [
    "## Gramatica\n",
    "\n",
    "Se consideră următoarea gramatică (similară cu cea din curs):\n",
    "\n",
    "$\n",
    "S \\rightarrow \\mathit{NP} \\; \\mathit{VP} \\\\\n",
    "S \\rightarrow \\mathit{Aux} \\; \\mathit{NP} \\; \\mathit{VP} \\\\\n",
    "S \\rightarrow \\mathit{VP} \\\\\n",
    "\\mathit{NP} \\rightarrow \\mathit{Pronoun} \\\\\n",
    "\\mathit{NP} \\rightarrow \\mathit{Proper-Noun} \\\\\n",
    "\\mathit{NP} \\rightarrow \\mathit{Det} \\; \\mathit{Nominal} \\\\\n",
    "\\mathit{Nominal} \\rightarrow \\mathit{Noun} \\\\\n",
    "\\mathit{Nominal} \\rightarrow \\mathit{Nominal} \\; \\mathit{Noun} \\\\\n",
    "\\mathit{Nominal} \\rightarrow \\mathit{Nominal} \\; \\mathit{PP} \\\\\n",
    "\\mathit{VP} \\rightarrow \\mathit{Verb} \\\\\n",
    "\\mathit{VP} \\rightarrow \\mathit{Verb} \\; \\mathit{NP} \\\\\n",
    "\\mathit{VP} \\rightarrow \\mathit{Verb} \\; \\mathit{NP} \\; \\mathit{PP} \\\\\n",
    "\\mathit{VP} \\rightarrow \\mathit{Verb} \\; \\mathit{PP} \\\\\n",
    "\\mathit{VP} \\rightarrow \\mathit{VP} \\; \\mathit{PP} \\\\\n",
    "\\mathit{PP} \\rightarrow \\mathit{Preposition} \\; \\mathit{NP} \\\\\n",
    "\\\\\n",
    "\\mathit{Det} \\rightarrow \\mathit{that} \\;|\\; \\mathit{this} \\;|\\; \\mathit{a} \\\\\n",
    "\\mathit{Noun} \\rightarrow \\mathit{book} \\;|\\; \\mathit{flight} \\;|\\; \\mathit{meal} \\;|\\; \\mathit{money} \\\\\n",
    "\\mathit{Verb} \\rightarrow \\mathit{book} \\;|\\; \\mathit{include} \\;|\\; \\mathit{prefer} \\\\\n",
    "\\mathit{Pronoun} \\rightarrow \\mathit{I} \\;|\\; \\mathit{she} \\;|\\; \\mathit{me} \\;|\\; \\mathit{you} \\\\\n",
    "\\mathit{Proper-Noun} \\rightarrow \\mathit{Huston} \\;|\\; \\mathit{TWA} \\\\\n",
    "\\mathit{Aux} \\rightarrow \\mathit{does} \\;|\\; \\mathit{do} \\\\\n",
    "\\mathit{Preposition} \\rightarrow \\mathit{from} \\;|\\; \\mathit{to} \\;|\\; \\mathit{on} \\;|\\; \\mathit{near} \\;|\\; \\mathit{through} \\;|\\; \\mathit{that} \\;|\\; \\mathit{with} \\\\\n",
    "$\n",
    "\n",
    "Vom reprezenta gramatica astfel:"
   ]
  },
  {
   "cell_type": "code",
   "execution_count": 1,
   "metadata": {},
   "outputs": [],
   "source": [
    "S, NP, VP, Aux, Pronoun, ProperNoun, Det, Nominal, Noun, PP, Verb, Preposition = \\\n",
    "    \"S NP VP Aux Pronoun ProperNoun Det Nominal Noun PP Verb Preposition\".split(\" \")\n",
    "\n",
    "G = [\n",
    "    (S, NP, VP),\n",
    "    (S, Aux, NP, VP),\n",
    "    (S, VP),\n",
    "    (NP, Pronoun),\n",
    "    (NP, ProperNoun),\n",
    "    (NP, Det, Nominal),\n",
    "    (NP, Pronoun, Nominal),\n",
    "    (Nominal, Noun),\n",
    "    (Nominal, Nominal, Noun),\n",
    "    (Nominal, Nominal, PP),\n",
    "    (VP, Verb),\n",
    "    (VP, Verb, NP),\n",
    "    (VP, Verb, NP, PP),\n",
    "    (VP, Verb, PP),\n",
    "    (PP, Preposition, NP),\n",
    "]\n",
    "Lexicon = {\n",
    "    Det: [\"that\", \"this\", \"a\", \"an\", \"the\"],\n",
    "    Noun: [\"book\", \"flight\", \"meal\", \"money\", \"elephant\", \"pajamas\", \"man\"],\n",
    "    Verb: [\"book\", \"include\", \"includes\", \"prefer\", \"shot\", \"hit\", \"saw\"],\n",
    "    Pronoun: [\"I\", \"she\", \"me\", \"you\", \"my\", \"we\"],\n",
    "    ProperNoun: [\"Huston\", \"TWA\"],\n",
    "    Aux: [\"does\", \"do\"],\n",
    "    Preposition: [\"from\", \"to\", \"on\", \"near\", \"through\", \"that\", \"with\", \"in\"],\n",
    "}"
   ]
  },
  {
   "cell_type": "code",
   "execution_count": 2,
   "metadata": {},
   "outputs": [
    {
     "name": "stdout",
     "output_type": "stream",
     "text": [
      " S\n",
      "    NP\n",
      "       Pronoun: I\n",
      "    VP\n",
      "       Verb: am\n",
      "       NP\n",
      "          Det: a\n",
      "          Nominal\n",
      "             Noun: human\n"
     ]
    }
   ],
   "source": [
    "# reprezentăm un nod ca un tuplu cu eticheta pe prima poziție și nodurile copii pe celalalte poziții.\n",
    "# Frunzele pot să nu mai fie conținute ca tupluri, ci pot fi reprezentate direct prin eticheta lor.\n",
    "# Nodurile N cu o singură frunză F vor fi reprezentate ca \"N: F\"\n",
    "def print_tree(node, indent = \"\"):\n",
    "    if isinstance(node, tuple):\n",
    "        label, children = node[0], node[1:]\n",
    "    else:\n",
    "        label, children = node, []\n",
    "    if len(children) == 1 and not isinstance(children[0], tuple): #shorten\n",
    "        label, children = label + \": \" + children[0], []\n",
    "    print(indent, label)\n",
    "    for c in children:\n",
    "        print_tree(c, indent + \"   \")\n",
    "        \n",
    "print_tree((S, (NP, (Pronoun, \"I\")), (VP, (Verb, \"am\"), (NP, (Det, \"a\"), (Nominal, (Noun, \"human\"))))))"
   ]
  },
  {
   "cell_type": "markdown",
   "metadata": {},
   "source": [
    "**Cerință:** Analizați sintactic următoarele propoziții, folosind gramatica dată, afișând arborele. Pentru cazurile de ambiguitate, se vor afișa toți arborii de derivare găsiți:"
   ]
  },
  {
   "cell_type": "code",
   "execution_count": 3,
   "metadata": {},
   "outputs": [],
   "source": [
    "Sentences = [\n",
    "    \"Book that flight\",\n",
    "    \"The flight includes a meal\",\n",
    "    \"I prefer a flight that includes a meal\",\n",
    "    \"I shot an elephant in my pajamas\",\n",
    "    \"I hit a man with an umbrella\",\n",
    "]"
   ]
  }
 ],
 "metadata": {
  "kernelspec": {
   "display_name": "Python 2",
   "language": "python",
   "name": "python2"
  },
  "language_info": {
   "codemirror_mode": {
    "name": "ipython",
    "version": 2
   },
   "file_extension": ".py",
   "mimetype": "text/x-python",
   "name": "python",
   "nbconvert_exporter": "python",
   "pygments_lexer": "ipython2",
   "version": "2.7.15rc1"
  }
 },
 "nbformat": 4,
 "nbformat_minor": 1
}
