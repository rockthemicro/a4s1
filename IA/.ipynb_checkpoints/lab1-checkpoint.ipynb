{
 "cells": [
  {
   "cell_type": "markdown",
   "metadata": {},
   "source": [
    "## Inteligență Artificială 2017 - Laboratorul 1 : Căutări\n",
    " - Tudor Berariu <tudor.berariu@gmail.com>\n",
    " - Andrei Olaru <cs@andreiolaru.ro>"
   ]
  },
  {
   "cell_type": "markdown",
   "metadata": {},
   "source": [
    "### Scopul laboratorului\n",
    "\n",
    "De foarte multe ori problemele care sunt legate de domeniul inteligenței artificiale sunt abstractizate ca o **căutare în spațiul stărilor** problemei. Laboratorul de astăzi își propune să recapituleze câteva noțiuni legate de limbajul de programare **Python** și să prezinte un algoritm de căutare informată: **A\\***."
   ]
  },
  {
   "cell_type": "markdown",
   "metadata": {},
   "source": [
    "### Problema\n",
    "\n",
    "În cadrul acestui laborator vom rezolva problema găsirii unui drum între două poziții pe o hartă bidimensională. Harta va avea și obstacole peste care nu se poate trece.\n",
    "\n",
    "Problemele de căutare sunt în general abstractizate cu grafuri. Harta bidimensională poate fi văzută ca un graf neorientat în care fiecare nod corespunde unei celule de pe hartă, iar o muchie conectează nodurile corespunzătoare  unor celule adiacente."
   ]
  },
  {
   "cell_type": "markdown",
   "metadata": {},
   "source": [
    "#### Pastila de Python"
   ]
  },
  {
   "cell_type": "code",
   "execution_count": 23,
   "metadata": {},
   "outputs": [
    {
     "name": "stdout",
     "output_type": "stream",
     "text": [
      "10\n",
      "13\n"
     ]
    }
   ],
   "source": [
    "# Instanțierea unei variabile\n",
    "a = 10\n",
    "print(a)  # ==> a\n",
    "a += 3\n",
    "print(a) # ==> a"
   ]
  },
  {
   "cell_type": "code",
   "execution_count": 24,
   "metadata": {},
   "outputs": [
    {
     "name": "stdout",
     "output_type": "stream",
     "text": [
      "[1, 2, 3, 4, 0, 1, 4, 9, ('a', 1), ('a', 2), ('b', 1), ('b', 2), ('c', 1), ('c', 2)]\n",
      "[4, 0, 1, 4, 9, ('a', 1), ('a', 2), ('b', 1)]\n"
     ]
    }
   ],
   "source": [
    "# Liste\n",
    "l1 = [1, 2, 3, 4]  # O listă definită explicit\n",
    "l2 = [x*x for x in range(4)]  # List comprehension\n",
    "l3 = [(chr(i), j) for i in range(ord('a'), ord('c')+1) for j in range(1,3)]\n",
    "l4 = l1 + l2 + l3  # Concatenarea listelor; Observație: listele nu sunt tipate\n",
    "\n",
    "print(l4)  # Se afișează lista l4\n",
    "print(l4[3:-3])  # Se afișează lista l4 fără primele 3 și ultimele 3 elemente"
   ]
  },
  {
   "cell_type": "markdown",
   "metadata": {},
   "source": [
    "#### Labirintul"
   ]
  },
  {
   "cell_type": "code",
   "execution_count": 25,
   "metadata": {},
   "outputs": [
    {
     "ename": "AttributeError",
     "evalue": "'module' object has no attribute 'to_rgba'",
     "output_type": "error",
     "traceback": [
      "\u001b[0;31m---------------------------------------------------------------------------\u001b[0m",
      "\u001b[0;31mAttributeError\u001b[0m                            Traceback (most recent call last)",
      "\u001b[0;32m/usr/local/lib/python2.7/dist-packages/ipykernel/pylab/backend_inline.pyc\u001b[0m in \u001b[0;36mshow\u001b[0;34m(close, block)\u001b[0m\n\u001b[1;32m     37\u001b[0m             display(\n\u001b[1;32m     38\u001b[0m                 \u001b[0mfigure_manager\u001b[0m\u001b[0;34m.\u001b[0m\u001b[0mcanvas\u001b[0m\u001b[0;34m.\u001b[0m\u001b[0mfigure\u001b[0m\u001b[0;34m,\u001b[0m\u001b[0;34m\u001b[0m\u001b[0m\n\u001b[0;32m---> 39\u001b[0;31m                 \u001b[0mmetadata\u001b[0m\u001b[0;34m=\u001b[0m\u001b[0m_fetch_figure_metadata\u001b[0m\u001b[0;34m(\u001b[0m\u001b[0mfigure_manager\u001b[0m\u001b[0;34m.\u001b[0m\u001b[0mcanvas\u001b[0m\u001b[0;34m.\u001b[0m\u001b[0mfigure\u001b[0m\u001b[0;34m)\u001b[0m\u001b[0;34m\u001b[0m\u001b[0m\n\u001b[0m\u001b[1;32m     40\u001b[0m             )\n\u001b[1;32m     41\u001b[0m     \u001b[0;32mfinally\u001b[0m\u001b[0;34m:\u001b[0m\u001b[0;34m\u001b[0m\u001b[0m\n",
      "\u001b[0;32m/usr/local/lib/python2.7/dist-packages/ipykernel/pylab/backend_inline.pyc\u001b[0m in \u001b[0;36m_fetch_figure_metadata\u001b[0;34m(fig)\u001b[0m\n\u001b[1;32m    172\u001b[0m     \u001b[0;34m\"\"\"Get some metadata to help with displaying a figure.\"\"\"\u001b[0m\u001b[0;34m\u001b[0m\u001b[0m\n\u001b[1;32m    173\u001b[0m     \u001b[0;31m# determine if a background is needed for legibility\u001b[0m\u001b[0;34m\u001b[0m\u001b[0;34m\u001b[0m\u001b[0m\n\u001b[0;32m--> 174\u001b[0;31m     \u001b[0;32mif\u001b[0m \u001b[0m_is_transparent\u001b[0m\u001b[0;34m(\u001b[0m\u001b[0mfig\u001b[0m\u001b[0;34m.\u001b[0m\u001b[0mget_facecolor\u001b[0m\u001b[0;34m(\u001b[0m\u001b[0;34m)\u001b[0m\u001b[0;34m)\u001b[0m\u001b[0;34m:\u001b[0m\u001b[0;34m\u001b[0m\u001b[0m\n\u001b[0m\u001b[1;32m    175\u001b[0m         \u001b[0;31m# the background is transparent\u001b[0m\u001b[0;34m\u001b[0m\u001b[0;34m\u001b[0m\u001b[0m\n\u001b[1;32m    176\u001b[0m         ticksLight = _is_light([label.get_color()\n",
      "\u001b[0;32m/usr/local/lib/python2.7/dist-packages/ipykernel/pylab/backend_inline.pyc\u001b[0m in \u001b[0;36m_is_transparent\u001b[0;34m(color)\u001b[0m\n\u001b[1;32m    193\u001b[0m \u001b[0;32mdef\u001b[0m \u001b[0m_is_transparent\u001b[0m\u001b[0;34m(\u001b[0m\u001b[0mcolor\u001b[0m\u001b[0;34m)\u001b[0m\u001b[0;34m:\u001b[0m\u001b[0;34m\u001b[0m\u001b[0m\n\u001b[1;32m    194\u001b[0m     \u001b[0;34m\"\"\"Determine transparency from alpha.\"\"\"\u001b[0m\u001b[0;34m\u001b[0m\u001b[0m\n\u001b[0;32m--> 195\u001b[0;31m     \u001b[0mrgba\u001b[0m \u001b[0;34m=\u001b[0m \u001b[0mcolors\u001b[0m\u001b[0;34m.\u001b[0m\u001b[0mto_rgba\u001b[0m\u001b[0;34m(\u001b[0m\u001b[0mcolor\u001b[0m\u001b[0;34m)\u001b[0m\u001b[0;34m\u001b[0m\u001b[0m\n\u001b[0m\u001b[1;32m    196\u001b[0m     \u001b[0;32mreturn\u001b[0m \u001b[0mrgba\u001b[0m\u001b[0;34m[\u001b[0m\u001b[0;36m3\u001b[0m\u001b[0;34m]\u001b[0m \u001b[0;34m<\u001b[0m \u001b[0;36m.5\u001b[0m\u001b[0;34m\u001b[0m\u001b[0m\n",
      "\u001b[0;31mAttributeError\u001b[0m: 'module' object has no attribute 'to_rgba'"
     ]
    }
   ],
   "source": [
    "# Vom reprezenta labirintul printr-un tablou bidimensional (o listă de liste)\n",
    "# celulele libere vor avea valoarea 0, iar pereții valoarea 1\n",
    "\n",
    "height = 10\n",
    "width = 20\n",
    "\n",
    "# Construim labirintul ca o listă de liste\n",
    "labyrinth = [[0 for c in range(width)] for r in range(height)]\n",
    "\n",
    "# Așezăm câteva obstacole pe hartă\n",
    "for r in range(2, 7):\n",
    "    labyrinth[r][6] = 1\n",
    "    labyrinth[6][r] = 1\n",
    "labyrinth[2][7] = 1\n",
    "\n",
    "%matplotlib inline\n",
    "import matplotlib.pyplot as pyplot\n",
    "pyplot.imshow(labyrinth, cmap='Greys', interpolation='nearest');"
   ]
  },
  {
   "cell_type": "code",
   "execution_count": 26,
   "metadata": {},
   "outputs": [
    {
     "data": {
      "text/plain": [
       "[False, False, True]"
      ]
     },
     "execution_count": 26,
     "metadata": {},
     "output_type": "execute_result"
    }
   ],
   "source": [
    "# Punctul de plecare și punctul destinație vor fi reprezentate prin tupluri\n",
    "start = (5, 5)\n",
    "final = (8, 8)\n",
    "\n",
    "# Funcții lambda, funcționale, lucruri frumoase\n",
    "is_final = lambda position: position == final\n",
    "\n",
    "# Map\n",
    "list(map(is_final, [(1,1), (3, 6), (8, 8)]))"
   ]
  },
  {
   "cell_type": "code",
   "execution_count": 27,
   "metadata": {},
   "outputs": [
    {
     "data": {
      "text/plain": [
       "[2, 5, 8, 11, 14, 17]"
      ]
     },
     "execution_count": 27,
     "metadata": {},
     "output_type": "execute_result"
    }
   ],
   "source": [
    "# Filter\n",
    "list(filter(lambda x: x % 3 == 2, range(20)))  # ==> [2, 5, 8, 11, 14, 17]"
   ]
  },
  {
   "cell_type": "code",
   "execution_count": 28,
   "metadata": {},
   "outputs": [
    {
     "data": {
      "text/plain": [
       "[1, 2, 3]"
      ]
     },
     "execution_count": 28,
     "metadata": {},
     "output_type": "execute_result"
    }
   ],
   "source": [
    "from functools import reduce\n",
    "\n",
    "# Reduce\n",
    "reduce(lambda x, y: [y] + x, [], [1,2,3])  # ==> [1, 2, 3]"
   ]
  },
  {
   "cell_type": "markdown",
   "metadata": {},
   "source": [
    "### Algoritmul A*"
   ]
  },
  {
   "cell_type": "markdown",
   "metadata": {},
   "source": [
    "Pentru a implementa algoritmul **A\\*** vom scrie întâi o funcție care întoarce lista tuturor pozițiilor vecine unei poziții date."
   ]
  },
  {
   "cell_type": "code",
   "execution_count": 44,
   "metadata": {},
   "outputs": [
    {
     "data": {
      "text/plain": [
       "[False, False, False, True, False]"
      ]
     },
     "execution_count": 44,
     "metadata": {},
     "output_type": "execute_result"
    }
   ],
   "source": [
    "# Scrieți o funcție care verifică dacă un tuplu dat reprezintă\n",
    "# coordonatele unei poziții libere de pe hartă (coordonatele nu depășesc limitele hărții\n",
    "# și acolo nu se găsește un obstacol)\n",
    "\n",
    "def is_good(pos):\n",
    "    # TODO\n",
    "    return (pos[0] >= 0) and (pos[0] < height) and (pos[1] >= 0) and (pos[1] < width) and (labyrinth[pos[0]][pos[1]] == 0)\n",
    "\n",
    "list(map(is_good, [(-1,2), (height,3), (width,4), (5,5), (6,6)])) # False, False, False, True, False"
   ]
  },
  {
   "cell_type": "code",
   "execution_count": 51,
   "metadata": {},
   "outputs": [
    {
     "data": {
      "text/plain": [
       "[[(1, 9), (0, 10), (0, 8)], [(4, 5), (5, 4)]]"
      ]
     },
     "execution_count": 51,
     "metadata": {},
     "output_type": "execute_result"
    }
   ],
   "source": [
    "# Scrieți o funcție care întoarce celulele vecine poziției date (doar cele libere)\n",
    "# Folosiți funcționala filter și funcția is_good scrisă anterior\n",
    "\n",
    "def get_neighbours(pos):\n",
    "    (r, c) = pos # Așa se poate desface o poziție în componentele sale\n",
    "    # TODO\n",
    "    ret = [(r + 1, c), (r-1, c), (r, c + 1), (r, c - 1)]\n",
    "    aux = lambda e: is_good(e)\n",
    "    \n",
    "    return list(filter(aux,ret))\n",
    "\n",
    "[get_neighbours(p) for p in [(0,9), (5,5)]] # ==> [[(1,9), (0,8), (0, 10)], [(4,5), (5,4)]] - nu neaparat în ordinea asta"
   ]
  },
  {
   "cell_type": "markdown",
   "metadata": {},
   "source": [
    "#### Funcții euristice\n",
    "\n",
    "Implementați două funcții euristice pe care să le folosiți în algoritmul **A\\***:\n",
    " - distanța euclidiană\n",
    " - distanța Manhattan"
   ]
  },
  {
   "cell_type": "code",
   "execution_count": 52,
   "metadata": {},
   "outputs": [
    {
     "data": {
      "text/plain": [
       "4.47213595499958"
      ]
     },
     "execution_count": 52,
     "metadata": {},
     "output_type": "execute_result"
    }
   ],
   "source": [
    "from math import sqrt\n",
    "\n",
    "def euclidean_distance(a, b):\n",
    "    # TODO\n",
    "    return sqrt((a[0]-b[0])*(a[0]-b[0]) + (a[1]-b[1])*(a[1]-b[1]))\n",
    "\n",
    "euclidean_distance((2,3), (4, 7))   # ==> 4.4721359"
   ]
  },
  {
   "cell_type": "code",
   "execution_count": 53,
   "metadata": {},
   "outputs": [
    {
     "data": {
      "text/plain": [
       "5"
      ]
     },
     "execution_count": 53,
     "metadata": {},
     "output_type": "execute_result"
    }
   ],
   "source": [
    "def manhattan_distance(a, b):\n",
    "    # TODO\n",
    "    return abs(a[0]-b[0]) + abs(a[1]-b[1])\n",
    "\n",
    "manhattan_distance((2,3), (4,0))  # ==> 5"
   ]
  },
  {
   "cell_type": "markdown",
   "metadata": {},
   "source": [
    "#### Cozi de priorități\n",
    "\n",
    "Pentru coada de priorități necesară algoritmului **A\\*** vom folosi heap-ul din Python [[1]](https://docs.python.org/2/library/heapq.html)."
   ]
  },
  {
   "cell_type": "code",
   "execution_count": 33,
   "metadata": {},
   "outputs": [
    {
     "name": "stdout",
     "output_type": "stream",
     "text": [
      "(1, 'B')\n",
      "(1.5, 'C')\n",
      "(2, 'A')\n"
     ]
    }
   ],
   "source": [
    "from heapq import heappop, heappush\n",
    "\n",
    "priority_queue = []\n",
    "heappush(priority_queue, (2, 'A'))\n",
    "heappush(priority_queue, (1, 'B'))\n",
    "heappush(priority_queue, (1.5, 'C'))\n",
    "\n",
    "print(heappop(priority_queue))  # ==> (1, 'B')\n",
    "print(heappop(priority_queue))  # ==> (1.5, 'C')\n",
    "print(heappop(priority_queue))  # ==> (2, 'A')"
   ]
  },
  {
   "cell_type": "markdown",
   "metadata": {},
   "source": [
    "#### Dicționare\n",
    "\n",
    "Algoritmul **A\\*** memorează în timpul rulării informații despre pozițiile descoperite pe parcurs. Pentru a salva și recupera aceste informații în O(1) vom folosi o tabelă de dispersie, un dicționar în Python."
   ]
  },
  {
   "cell_type": "code",
   "execution_count": 34,
   "metadata": {},
   "outputs": [
    {
     "name": "stdout",
     "output_type": "stream",
     "text": [
      "2\n",
      "3\n",
      "Nu am găsit!\n",
      "('trei', ' -> ', 3)\n",
      "('doi', ' -> ', 2)\n"
     ]
    }
   ],
   "source": [
    "# Dicționare\n",
    "d = {}\n",
    "d['doi'] = 2\n",
    "d['trei'] = 3\n",
    "\n",
    "print(d['doi']) # ==> 2\n",
    "\n",
    "# Funcția get\n",
    "print(d.get('trei'))  # ==> 3\n",
    "print(d.get('patru', 'Nu am găsit!'))  # ==> Nu am găsit!\n",
    "\n",
    "for (key, value) in d.items():\n",
    "    print(key, \" -> \", value)"
   ]
  },
  {
   "cell_type": "markdown",
   "metadata": {},
   "source": [
    "#### Algoritmul A\\*\n",
    "\n",
    "Scrieți o funcție ce implementează algoritmul **A\\***. Funcția va primi 3 argumente:\n",
    " - poziția de start\n",
    " - poziția finală\n",
    " - funcția euristică folosită\n",
    " \n",
    "Frontiera va fi o coadă de priorități ce va conține nodurile descoperite:\n",
    " - prioritatea va fi dată de funcția f (cost real din nodul de start + valoare estimată până la nodul final)\n",
    "\n",
    "Pentru informațiile ce trebuie memorate pentru fiecare nod descoperit se va folosi un dicționar\n",
    "\n",
    "    d[node] = (parent, cost)\n",
    "    \n",
    "în care se vor reține părintele nodului și costul cu care a fost descoperit."
   ]
  },
  {
   "cell_type": "code",
   "execution_count": 57,
   "metadata": {},
   "outputs": [],
   "source": [
    "def astar(start, end, h):\n",
    "    # Frontiera, ca listă (heap) de tupluri (cost-total-estimat, nod)\n",
    "    frontier = [] # open\n",
    "    heappush(frontier, (0 + h(start, end), start))\n",
    "    # Nodurile descoperite ca dicționar nod -> (părinte, cost-până-la-nod)\n",
    "    discovered = {start: (None, 0)} # closed(parinte, cost)\n",
    "    while frontier:\n",
    "        # TODO\n",
    "        current_position = heappop(frontier)[1]\n",
    "        cost = discovered[current_position][1]\n",
    "        if current_position == end:\n",
    "            break\n",
    "        neighbours = get_neighbours(current_position)\n",
    "        for n in neighbours:\n",
    "            if n not in discovered or cost+1 < discovered[n][1]:\n",
    "                discovered[n] = (current_position, cost+1)\n",
    "                heappush(frontier, (discovered[n][1] + h(n,end), n))\n",
    "       \n",
    "    #cost_map = [[discovered[(r,c)][1] if (r,c) in discovered else 0 for c in range(width)]for r in range(height)]\n",
    "    #pyplot.imshow(cost_map , cmap='Greys', interpolation='nearest');\n",
    "    \n",
    "    # Refacem drumul\n",
    "    path = []\n",
    "    path.append(end)\n",
    "    parent = discovered[end][0]\n",
    "    while parent != start:\n",
    "        path.append(parent)\n",
    "        parent = discovered[parent][0]\n",
    "    path.append(start)\n",
    "    \n",
    "    return path # drumul, ca listă de poziții"
   ]
  },
  {
   "cell_type": "code",
   "execution_count": 65,
   "metadata": {},
   "outputs": [
    {
     "data": {
      "text/plain": [
       "[(8, 8),\n",
       " (8, 7),\n",
       " (8, 6),\n",
       " (8, 5),\n",
       " (8, 4),\n",
       " (8, 3),\n",
       " (8, 2),\n",
       " (8, 1),\n",
       " (7, 1),\n",
       " (6, 1),\n",
       " (5, 1),\n",
       " (5, 2),\n",
       " (5, 3),\n",
       " (5, 4),\n",
       " (5, 5)]"
      ]
     },
     "execution_count": 65,
     "metadata": {},
     "output_type": "execute_result"
    }
   ],
   "source": [
    "astar(start, final, euclidean_distance)"
   ]
  },
  {
   "cell_type": "code",
   "execution_count": 64,
   "metadata": {},
   "outputs": [
    {
     "data": {
      "text/plain": [
       "[(8, 8),\n",
       " (8, 7),\n",
       " (8, 6),\n",
       " (8, 5),\n",
       " (8, 4),\n",
       " (8, 3),\n",
       " (8, 2),\n",
       " (8, 1),\n",
       " (7, 1),\n",
       " (6, 1),\n",
       " (5, 1),\n",
       " (5, 2),\n",
       " (5, 3),\n",
       " (5, 4),\n",
       " (5, 5)]"
      ]
     },
     "execution_count": 64,
     "metadata": {},
     "output_type": "execute_result"
    }
   ],
   "source": [
    "astar(start, final, manhattan_distance)"
   ]
  },
  {
   "cell_type": "code",
   "execution_count": null,
   "metadata": {},
   "outputs": [],
   "source": []
  }
 ],
 "metadata": {
  "kernelspec": {
   "display_name": "Python 2",
   "language": "python",
   "name": "python2"
  },
  "language_info": {
   "codemirror_mode": {
    "name": "ipython",
    "version": 2
   },
   "file_extension": ".py",
   "mimetype": "text/x-python",
   "name": "python",
   "nbconvert_exporter": "python",
   "pygments_lexer": "ipython2",
   "version": "2.7.12"
  }
 },
 "nbformat": 4,
 "nbformat_minor": 1
}
