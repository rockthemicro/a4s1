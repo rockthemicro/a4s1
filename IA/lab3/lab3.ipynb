{
 "cells": [
  {
   "cell_type": "markdown",
   "metadata": {},
   "source": [
    "# Laboratorul 3: Satisfacerea parțială a restricțiilor\n",
    " - Tudor Berariu\n",
    " - Andrei Olaru"
   ]
  },
  {
   "cell_type": "code",
   "execution_count": 1,
   "metadata": {},
   "outputs": [],
   "source": [
    "from copy import copy, deepcopy\n",
    "from itertools import combinations"
   ]
  },
  {
   "cell_type": "markdown",
   "metadata": {},
   "source": [
    "## O problemă de satisfacere a restricțiilor\n",
    "\n",
    "O **problemă de satisfacere a restricțiilor** este definită de:\n",
    " - o mulțime discretă de **variabile**\n",
    " - câte un **domeniu de valori** pentru fiecare variabilă\n",
    " - un set de **constrângeri** impuse asupra unor grupuri de variabile\n",
    " \n",
    "Vom reprezenta în Python cele de mai sus astfel:\n",
    " - fiecare variabilă va fi reprezentată printr-un șir de caractere\n",
    "\n",
    "```\n",
    "Vars = [\"A\", \"B\", \"C\"]\n",
    "```\n",
    " - mulțimea domeniilor va fi un dicționar având câte o intrare pentru fiecare variabilă:\n",
    "    + cheie va fi numele variabilei\n",
    "    + valoare va fi domeniul de valori al acelei variabile\n",
    "\n",
    "```\n",
    "Domains = {\"A\": [1, 2, 3], \"B\": [1, 5, 9], \"C\": [-2, -1]}\n",
    "```\n",
    " - o constrângere va fi reprezentată printr-un tuplu format din:\n",
    "    + lista de variabile implicată în constrângere\n",
    "    + o funcție anonimă care întoarce `True` sau `False`\n",
    "\n",
    "```\n",
    "Constraints = [([\"A\", \"B\", \"C\"], lambda a, b, c: a + b + c == 0)]\n",
    "```\n",
    "\n",
    "Vom reprezenta o **soluție** printr-un dicționar ce indică o valoare pentru fiecare variabilă (e.g. `{\"A\": 1, \"B\": 1, \"C\" -2}`) și vom defini **costul** ca fiind egal cu numărul de constrângeri încălcate de acea soluție."
   ]
  },
  {
   "cell_type": "code",
   "execution_count": 2,
   "metadata": {},
   "outputs": [],
   "source": [
    "VarsA = [\"A\", \"B\", \"C\", \"D\", \"E\"]\n",
    "DomainsA = {v: [i for i in range(10)] for v in VarsA}\n",
    "ConstraintsA = [(list(p), lambda x,y: x != y) for p in combinations(VarsA, 2)] # toate valorile diferite\n",
    "ConstraintsA.append(([\"A\",\"B\"], lambda a, b: a + b == 10))\n",
    "ConstraintsA.append(([\"B\",\"D\"], lambda b, d: b + d == 6))\n",
    "ConstraintsA.append(([\"C\"], lambda c: c < 5))\n",
    "ConstraintsA.append(([\"A\"], lambda a: a > 5))\n",
    "ConstraintsA.append(([\"A\",\"B\",\"C\",\"D\",\"E\"], lambda a, b, c, d, e: a + b + c + d + e == 30))\n",
    "MathProblem = {\"Vars\": VarsA, \"Domains\": DomainsA, \"Constraints\": ConstraintsA}"
   ]
  },
  {
   "cell_type": "code",
   "execution_count": 3,
   "metadata": {},
   "outputs": [],
   "source": [
    "VarsC = [\"France\", \"Germany\", \"Loux\", \"Belgium\", \"Netherlands\"]\n",
    "DomainsC = {v: [\"blue\", \"red\", \"yellow\", \"green\"] for v in VarsC}\n",
    "ConstraintsC = []\n",
    "for (a, b) in [(\"France\", \"Germany\"), (\"France\", \"Belgium\"), (\"France\", \"Loux\"),\n",
    "               (\"Belgium\", \"Netherlands\"), (\"Belgium\", \"Loux\"), (\"Belgium\", \"Germany\"),\n",
    "               (\"Loux\", \"Germany\"), (\"Netherlands\", \"Germany\")]:\n",
    "    ConstraintsC.append(([a, b], lambda a, b: a != b))\n",
    "ColoringProblem = {\"Vars\": VarsC, \"Domains\": DomainsC, \"Constraints\": ConstraintsC}"
   ]
  },
  {
   "cell_type": "markdown",
   "metadata": {},
   "source": [
    "## Cerința 1\n",
    "\n",
    "Implementați funcția `get_constraints` care primește o variabilă `var` și o listă de constrângeri `constraints` și întoarce doar acele constrângeri care implică variabila dată.\n",
    "```\n",
    "Constraints = [([\"A\", \"B\"], lambda a,b: a<b), ([\"A\"], lambda a: a<5)]\n",
    "get_constraints(\"B\", Constraints)\n",
    "==> [([\"A\", \"B\"], lambda a,b: a<b)]\n",
    "get_constraints(\"A\", Constraints)\n",
    "==> [([\"A\", \"B\"], lambda a,b: a<b), ([\"A\"], lambda a: a<5)]\n",
    "```"
   ]
  },
  {
   "cell_type": "code",
   "execution_count": 4,
   "metadata": {},
   "outputs": [
    {
     "data": {
      "text/plain": [
       "[(['France', 'Germany'], <function __main__.<lambda>>),\n",
       " (['France', 'Belgium'], <function __main__.<lambda>>),\n",
       " (['France', 'Loux'], <function __main__.<lambda>>)]"
      ]
     },
     "execution_count": 4,
     "metadata": {},
     "output_type": "execute_result"
    }
   ],
   "source": [
    "def get_constraints(var, constraints):\n",
    "    # TODO\n",
    "    result = []\n",
    "    for constraint in constraints:\n",
    "        vars = constraint[0]\n",
    "        if var in vars:\n",
    "            result.append(constraint)\n",
    "    \n",
    "    return result\n",
    "\n",
    "get_constraints(\"France\", ConstraintsC) # => [(['France', 'Germany'], ...), (['France', 'Belgium'], ...), (['France', 'Loux'], ...)]"
   ]
  },
  {
   "cell_type": "markdown",
   "metadata": {},
   "source": [
    "## Cerința 2\n",
    "\n",
    "Implementați funcția `fixed_constraints` care primește o soluție parțială `solution` și un set de constrângeri `constraints` și întoarce doar acele constrângeri care pot fi evaluate (i.e. variabilele implicate se regăsesc în soluția parțială)."
   ]
  },
  {
   "cell_type": "code",
   "execution_count": 5,
   "metadata": {},
   "outputs": [
    {
     "name": "stdout",
     "output_type": "stream",
     "text": [
      "[(['France', 'Belgium'], <function <lambda> at 0x7f76507375f0>)]\n",
      "[(['A', 'C'], <function <lambda> at 0x7f7650708c80>), (['A'], <function <lambda> at 0x7f76507372a8>), (['C'], <function <lambda> at 0x7f7650737230>)]\n"
     ]
    }
   ],
   "source": [
    "def fixed_constraints(solution, constraints):\n",
    "    # TODO\n",
    "    result = []\n",
    "    tmp_constraints = []\n",
    "    vars_in_solution = []\n",
    "    \n",
    "    for pair in solution:\n",
    "        pair_constraints = get_constraints(pair, constraints)\n",
    "        \n",
    "        if pair_constraints != []:\n",
    "            for c in pair_constraints:\n",
    "                if c not in tmp_constraints:\n",
    "                    tmp_constraints.append(c)\n",
    "    \n",
    "    \n",
    "        vars_in_solution.append(pair)\n",
    " \n",
    "    if c not in tmp_constraints:\n",
    "                    tmp_constraints.append(c)\n",
    "    \n",
    "    for constraint in tmp_constraints:\n",
    "        vars = constraint[0]\n",
    "        can_be_evaluated = True\n",
    "        \n",
    "        for var in vars:\n",
    "            if var not in vars_in_solution:\n",
    "                can_be_evaluated = False\n",
    "                break\n",
    "            \n",
    "        if can_be_evaluated == True:\n",
    "            result.append(constraint)\n",
    "\n",
    "    return result\n",
    "\n",
    "print(fixed_constraints({\"France\": \"blue\", \"Belgium\": \"green\"}, ConstraintsC)) # => [(['France', 'Belgium'], ...)]\n",
    "print(fixed_constraints({\"A\": \"1\", \"C\": \"2\"}, ConstraintsA)) # => [(['A', 'C'], ...), (['C'], ...), (['A'], ...)]"
   ]
  },
  {
   "cell_type": "markdown",
   "metadata": {},
   "source": [
    "## Cerința 3\n",
    "\n",
    "Implementați funcția `check_constraint` care primește o constrângere `constraint` și o soluție parțială `solution` și întoarce `True` dacă soluția respectă constrângerea și `False` altfel.\n",
    "\n",
    "**Hint:** utilizați `apply` în Python 2 sau notația cu steluță în Python 3 (vezi [aici](http://www.diveintopython3.net/porting-code-to-python-3-with-2to3.html#apply))."
   ]
  },
  {
   "cell_type": "code",
   "execution_count": 6,
   "metadata": {},
   "outputs": [
    {
     "name": "stdout",
     "output_type": "stream",
     "text": [
      "True\n",
      "False\n"
     ]
    }
   ],
   "source": [
    "def check_constraint(solution, constraint):\n",
    "    # TODO\n",
    "    vals = constraint[0]\n",
    "    lambda_func = constraint[1]\n",
    "    mylist = []\n",
    "    \n",
    "    for val in vals:\n",
    "        mylist.append(solution[val])\n",
    "    \n",
    "    return apply(lambda_func, tuple(mylist))\n",
    "\n",
    "print(check_constraint({\"France\": \"blue\", \"Belgium\": \"green\"}, ConstraintsC[1])) # => True\n",
    "print(check_constraint({\"France\": \"blue\", \"Belgium\": \"blue\"}, ConstraintsC[1])) # => False"
   ]
  },
  {
   "cell_type": "markdown",
   "metadata": {},
   "source": [
    "## Cerința 4: PCSP\n",
    "\n",
    "Completați ceea ce lipsește în algoritmul PCSP.\n",
    "\n",
    "* `vars` -- variabilele care mai rămân de verificat\n",
    "* `domains` -- domeniile pentru variabilele care mai rămân de verificat, cu valorile care mai rămân de verificat pentru fiecare variabilă\n",
    "* `constrains` -- lista de constrângeri\n",
    "* `acceptable_cost` -- costul pentru care se consideră ca soluția este satisfăcătoare\n",
    "* `solution` -- soluția parțială, conținând valori pentru variabilele verificate până acum\n",
    "* `cost` -- costul soluției parțiale (`solution`) -- numărul de constrângeri nesatisfăcute\n",
    "\n",
    "Valoare întoarsă de funcție este `True` dacă a fost găsită o soluție completă satisfăcătoare (vezi costul acceptabil), și `False` altfel.\n",
    "\n",
    "Se folosesc două variabile globale:\n",
    "* `best_cost` -- cel mai bun (mic) cost întâlnit până acum în explorare, pentru o soluție completă\n",
    "* `best_solution` -- soluția corespunzătoare celui mai bun cost"
   ]
  },
  {
   "cell_type": "code",
   "execution_count": 7,
   "metadata": {
    "scrolled": true
   },
   "outputs": [
    {
     "name": "stdout",
     "output_type": "stream",
     "text": [
      "New best: 14 - {'A': 0, 'C': 0, 'B': 0, 'E': 0, 'D': 0}\n",
      "New best: 10 - {'A': 0, 'C': 0, 'B': 0, 'E': 1, 'D': 0}\n",
      "New best: 8 - {'A': 0, 'C': 0, 'B': 0, 'E': 1, 'D': 1}\n",
      "New best: 7 - {'A': 0, 'C': 0, 'B': 0, 'E': 2, 'D': 1}\n",
      "New best: 6 - {'A': 0, 'C': 0, 'B': 0, 'E': 1, 'D': 6}\n",
      "New best: 5 - {'A': 0, 'C': 1, 'B': 0, 'E': 3, 'D': 2}\n",
      "New best: 4 - {'A': 0, 'C': 1, 'B': 0, 'E': 2, 'D': 6}\n",
      "New best: 3 - {'A': 0, 'C': 2, 'B': 1, 'E': 3, 'D': 5}\n",
      "New best: 2 - {'A': 2, 'C': 4, 'B': 8, 'E': 9, 'D': 7}\n",
      "New best: 1 - {'A': 6, 'C': 0, 'B': 4, 'E': 1, 'D': 2}\n",
      "Best found: 1 - {'A': 6, 'C': 0, 'B': 4, 'E': 1, 'D': 2}\n",
      "New best: 6 - {'Loux': 'blue', 'Belgium': 'blue', 'Netherlands': 'red', 'Germany': 'blue', 'France': 'blue'}\n",
      "New best: 4 - {'Loux': 'blue', 'Belgium': 'red', 'Netherlands': 'blue', 'Germany': 'blue', 'France': 'blue'}\n",
      "New best: 3 - {'Loux': 'blue', 'Belgium': 'red', 'Netherlands': 'yellow', 'Germany': 'blue', 'France': 'blue'}\n",
      "New best: 2 - {'Loux': 'red', 'Belgium': 'red', 'Netherlands': 'yellow', 'Germany': 'blue', 'France': 'blue'}\n",
      "New best: 1 - {'Loux': 'red', 'Belgium': 'yellow', 'Netherlands': 'red', 'Germany': 'blue', 'France': 'blue'}\n",
      "Best found: 1 - {'Loux': 'red', 'Belgium': 'yellow', 'Netherlands': 'red', 'Germany': 'blue', 'France': 'blue'}\n"
     ]
    }
   ],
   "source": [
    "def PCSP(vars, domains, constraints, acceptable_cost, solution, cost):\n",
    "    global best_solution\n",
    "    global best_cost\n",
    "    if not vars:\n",
    "        # Dacă nu mai sunt variabile, am ajuns la o soluție mai bună\n",
    "        print(\"New best: \" + str(cost) + \" - \" + str(solution))\n",
    "        \n",
    "        # TODO: salvați soluția nou-descoperită\n",
    "        best_solution = solution\n",
    "        best_cost = cost\n",
    "        \n",
    "        # TODO: dacă este suficient de bună, funcția întoarce True\n",
    "        if cost <= acceptable_cost:\n",
    "            return True\n",
    "        else:\n",
    "            return False\n",
    "        \n",
    "    elif not domains[vars[0]]:\n",
    "        # Dacă nu mai sunt valori în domeniu, am terminat căutarea\n",
    "        return False\n",
    "    elif cost == best_cost:\n",
    "        # Dacă am ajuns deja la un cost identic cu cel al celei mai bune soluții, nu mergem mai departe\n",
    "        return False\n",
    "    else:\n",
    "        # TODO: Luăm prima variabilă și prima valoare din domeniu\n",
    "        var = vars[0]\n",
    "        val = domains[var].pop(0)\n",
    "\n",
    "        # TODO: Construim noua soluție\n",
    "        new_solution = deepcopy(solution)\n",
    "        new_solution[var]  = val\n",
    "\n",
    "        # TODO: Obținem lista constrângerilor ce pot fi evaluate acum\n",
    "        fixed_cons = fixed_constraints(new_solution, constraints)\n",
    "        \n",
    "        # TODO:  Calculăm costul noii soluții parțiale (fiecare constrângere încălcată = 1)\n",
    "        new_cost = 0\n",
    "        for cons in fixed_cons:\n",
    "            if not check_constraint(new_solution, cons):\n",
    "                new_cost = new_cost + 1\n",
    "\n",
    "        # Verificăm dacă noul cost este mai mic decât cel mai bun cost\n",
    "        res = False\n",
    "        if new_cost < best_cost:\n",
    "            # TODO:\n",
    "            # Dacă noul cost este mai mic decât cel mai bun cunoscut, rezolvăm pentru restul variabilelor\n",
    "            new_vars = vars[1:]\n",
    "            \n",
    "            # Dacă apelul recursiv întoarce True, a fost găsită o soluție suficient de bună, deci întoarcem True\n",
    "            res = PCSP(new_vars, deepcopy(domains), constraints, acceptable_cost, new_solution, new_cost)\n",
    "            \n",
    "        # Verificăm pentru restul valorilor\n",
    "        # TODO:\n",
    "        if not res:\n",
    "            return PCSP(vars, deepcopy(domains), constraints, acceptable_cost, solution, cost)\n",
    "        else:\n",
    "            return True\n",
    "    \n",
    "# Un wrapper care să instanțieze variabilele globale\n",
    "def run_pcsp(problem, acceptable_cost):\n",
    "    global best_solution\n",
    "    global best_cost\n",
    "\n",
    "    [vars, domains, constraints] = [problem[e] for e in [\"Vars\", \"Domains\", \"Constraints\"]]\n",
    "    \n",
    "    best_solution = {}\n",
    "    best_cost = len(constraints)\n",
    "\n",
    "    PCSP(vars, deepcopy(domains), constraints, acceptable_cost, {}, 0)\n",
    "    \n",
    "    print(\"Best found: \" + str(best_cost) + \" - \" + str(best_solution))\n",
    "\n",
    "# Rulăm măgăria\n",
    "run_pcsp(MathProblem, 1)\n",
    "run_pcsp(ColoringProblem, 1)"
   ]
  },
  {
   "cell_type": "markdown",
   "metadata": {
    "collapsed": true
   },
   "source": [
    "Expected for numbers:\n",
    "\n",
    "```\n",
    "New best:  15  -  {'A': 0, 'C': 0, 'B': 0, 'E': 0, 'D': 0}\n",
    "New best:  11  -  {'A': 0, 'C': 0, 'B': 0, 'E': 1, 'D': 0}\n",
    "New best:  9  -  {'A': 0, 'C': 0, 'B': 0, 'E': 1, 'D': 1}\n",
    "New best:  8  -  {'A': 0, 'C': 0, 'B': 0, 'E': 2, 'D': 1}\n",
    "New best:  6  -  {'A': 0, 'C': 0, 'B': 0, 'E': 1, 'D': 6}\n",
    "New best:  5  -  {'A': 0, 'C': 1, 'B': 0, 'E': 1, 'D': 6}\n",
    "New best:  4  -  {'A': 0, 'C': 1, 'B': 0, 'E': 2, 'D': 6}\n",
    "New best:  3  -  {'A': 0, 'C': 2, 'B': 1, 'E': 3, 'D': 5}\n",
    "New best:  2  -  {'A': 4, 'C': 1, 'B': 6, 'E': 2, 'D': 0}\n",
    "New best:  1  -  {'A': 6, 'C': 0, 'B': 4, 'E': 1, 'D': 2}\n",
    "Best found: 1  -  {'A': 6, 'C': 0, 'B': 4, 'E': 1, 'D': 2}\n",
    "```\n",
    "\n",
    "Expected for country colors:\n",
    "\n",
    "```\n",
    "New best:  8  -  {'Loux': 'blue', 'Belgium': 'blue', 'Netherlands': 'blue', 'Germany': 'blue', 'France': 'blue'}\n",
    "New best:  6  -  {'Loux': 'blue', 'Belgium': 'blue', 'Netherlands': 'red', 'Germany': 'blue', 'France': 'blue'}\n",
    "New best:  4  -  {'Loux': 'blue', 'Belgium': 'red', 'Netherlands': 'blue', 'Germany': 'blue', 'France': 'blue'}\n",
    "New best:  3  -  {'Loux': 'blue', 'Belgium': 'red', 'Netherlands': 'yellow', 'Germany': 'blue', 'France': 'blue'}\n",
    "New best:  2  -  {'Loux': 'red', 'Belgium': 'red', 'Netherlands': 'yellow', 'Germany': 'blue', 'France': 'blue'}\n",
    "New best:  1  -  {'Loux': 'red', 'Belgium': 'yellow', 'Netherlands': 'red', 'Germany': 'blue', 'France': 'blue'}\n",
    "Best found: 1  -  {'Loux': 'red', 'Belgium': 'yellow', 'Netherlands': 'red', 'Germany': 'blue', 'France': 'blue'}\n",
    "```"
   ]
  }
 ],
 "metadata": {
  "kernelspec": {
   "display_name": "Python 2",
   "language": "python",
   "name": "python2"
  },
  "language_info": {
   "codemirror_mode": {
    "name": "ipython",
    "version": 2
   },
   "file_extension": ".py",
   "mimetype": "text/x-python",
   "name": "python",
   "nbconvert_exporter": "python",
   "pygments_lexer": "ipython2",
   "version": "2.7.12"
  }
 },
 "nbformat": 4,
 "nbformat_minor": 1
}
